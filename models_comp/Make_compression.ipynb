{
 "cells": [
  {
   "cell_type": "markdown",
   "metadata": {
    "id": "b1_5xj_b48vV"
   },
   "source": [
    "# Notebook for making input and output datasets for predictive ae"
   ]
  },
  {
   "cell_type": "code",
   "execution_count": 3,
   "metadata": {
    "id": "inovcG7XXIbq"
   },
   "outputs": [],
   "source": [
    "import numpy as np\n",
    "import keras\n",
    "import tensorflow as tf\n",
    "import matplotlib.pyplot as plt"
   ]
  },
  {
   "cell_type": "code",
   "execution_count": null,
   "metadata": {
    "colab": {
     "base_uri": "https://localhost:8080/"
    },
    "id": "X7vaM2M3XZpg",
    "outputId": "a62f30b6-9f25-453c-cd52-931aff6aef10"
   },
   "outputs": [
    {
     "name": "stdout",
     "output_type": "stream",
     "text": [
      "Archive:  encoder_b_20.zip\n",
      "   creating: content/model/encoder_b/\n",
      "   creating: content/model/encoder_b/assets/\n",
      "   creating: content/model/encoder_b/variables/\n",
      "  inflating: content/model/encoder_b/variables/variables.index  \n",
      "  inflating: content/model/encoder_b/variables/variables.data-00000-of-00001  \n",
      "  inflating: content/model/encoder_b/saved_model.pb  \n",
      "  inflating: content/model/encoder_b/keras_metadata.pb  \n"
     ]
    }
   ],
   "source": [
    "# !unzip encoder_b_20.zip"
   ]
  },
  {
   "cell_type": "code",
   "execution_count": null,
   "metadata": {
    "colab": {
     "base_uri": "https://localhost:8080/"
    },
    "id": "QNM7lpPGZT58",
    "outputId": "e606086c-ad66-4f88-c5b0-5d62b2888776"
   },
   "outputs": [
    {
     "name": "stdout",
     "output_type": "stream",
     "text": [
      "Archive:  encoder_u_20.zip\n",
      "   creating: content/model/encoder/\n",
      "  inflating: content/model/encoder/keras_metadata.pb  \n",
      "  inflating: content/model/encoder/saved_model.pb  \n",
      "   creating: content/model/encoder/assets/\n",
      "   creating: content/model/encoder/variables/\n",
      "  inflating: content/model/encoder/variables/variables.index  \n",
      "  inflating: content/model/encoder/variables/variables.data-00000-of-00001  \n"
     ]
    }
   ],
   "source": [
    "# !unzip encoder_u_20.zip"
   ]
  },
  {
   "cell_type": "code",
   "execution_count": null,
   "metadata": {
    "colab": {
     "base_uri": "https://localhost:8080/"
    },
    "id": "OPR26WFVaT5y",
    "outputId": "cc5d9ce6-c990-4638-d591-d6ac87fd3448"
   },
   "outputs": [
    {
     "name": "stdout",
     "output_type": "stream",
     "text": [
      "Archive:  encoder_v_20.zip\n",
      "   creating: content/model/encoder/\n",
      "  inflating: content/model/encoder/keras_metadata.pb  \n",
      "  inflating: content/model/encoder/saved_model.pb  \n",
      "   creating: content/model/encoder/assets/\n",
      "   creating: content/model/encoder/variables/\n",
      "  inflating: content/model/encoder/variables/variables.index  \n",
      "  inflating: content/model/encoder/variables/variables.data-00000-of-00001  \n"
     ]
    }
   ],
   "source": [
    "# !unzip encoder_v_20.zip"
   ]
  },
  {
   "cell_type": "code",
   "execution_count": 4,
   "metadata": {
    "id": "LqO2vIHjavtl"
   },
   "outputs": [],
   "source": [
    "data = np.load(\"../ddpod/starshape_ae_full.npy\")"
   ]
  },
  {
   "cell_type": "code",
   "execution_count": 5,
   "metadata": {
    "colab": {
     "base_uri": "https://localhost:8080/"
    },
    "id": "_Y6J1aoPsyvx",
    "outputId": "778ee116-ac50-4b6e-e17f-a10374e2745c"
   },
   "outputs": [
    {
     "data": {
      "text/plain": [
       "(17500, 48, 48, 3)"
      ]
     },
     "execution_count": 5,
     "metadata": {},
     "output_type": "execute_result"
    }
   ],
   "source": [
    "data.shape"
   ]
  },
  {
   "cell_type": "code",
   "execution_count": null,
   "metadata": {},
   "outputs": [],
   "source": []
  },
  {
   "cell_type": "markdown",
   "metadata": {
    "id": "ccddWFDw43R1"
   },
   "source": [
    "## Using separate encoders for u v and b"
   ]
  },
  {
   "cell_type": "code",
   "execution_count": null,
   "metadata": {
    "colab": {
     "base_uri": "https://localhost:8080/"
    },
    "id": "nbK37oQMabUP",
    "outputId": "ff9f164e-25f8-45f2-94b4-f9b2fa48caf7"
   },
   "outputs": [
    {
     "name": "stdout",
     "output_type": "stream",
     "text": [
      "WARNING:tensorflow:No training configuration found in save file, so the model was *not* compiled. Compile it manually.\n",
      "WARNING:tensorflow:No training configuration found in save file, so the model was *not* compiled. Compile it manually.\n",
      "WARNING:tensorflow:No training configuration found in save file, so the model was *not* compiled. Compile it manually.\n"
     ]
    }
   ],
   "source": [
    "encoder_uvb_60 = tf.keras.models.load_model(\"./uv_b_comp/encoder_uvb\", custom_objects=None, compile=True, options=None)\n",
    "encoder_uv_40 = tf.keras.models.load_model(\"./uv_b_comp/encoder_uv_40\", custom_objects=None, compile=True, options=None)\n",
    "encoder_b_20 = tf.keras.models.load_model(\"./all_separate_comp/encoder_b_20\", custom_objects=None, compile=True, options=None)"
   ]
  },
  {
   "cell_type": "markdown",
   "metadata": {
    "id": "l0cyVEeJa3CD"
   },
   "source": [
    "Separate the three channels in the AE data\n",
    "\n",
    "and then pass each of them into each encoder"
   ]
  },
  {
   "cell_type": "code",
   "execution_count": null,
   "metadata": {
    "id": "O_j4jO7mj-Nz"
   },
   "outputs": [],
   "source": [
    "input_full = np.delete(data, slice(4,17501,5),axis = 0)\n",
    "output_full = data[4:17501:5,:,:]"
   ]
  },
  {
   "cell_type": "code",
   "execution_count": null,
   "metadata": {
    "id": "l3Bi5Agkk5R3"
   },
   "outputs": [],
   "source": [
    "input_u = input_full[:,:,:,0]\n",
    "input_v = input_full[:,:,:,1]\n",
    "input_b = input_full[:,:,:,2]\n",
    "output_u = output_full[:,:,:,0]\n",
    "output_v= output_full[:,:,:,1]\n",
    "central_b= output_full[:,:,:,2]"
   ]
  },
  {
   "cell_type": "code",
   "execution_count": null,
   "metadata": {
    "id": "e1YMa1lhlMSk"
   },
   "outputs": [],
   "source": [
    "#compress u\n",
    "cae_input_u = encoder_u(input_u)\n",
    "cae_output_u = encoder_u(output_u)"
   ]
  },
  {
   "cell_type": "code",
   "execution_count": null,
   "metadata": {
    "colab": {
     "base_uri": "https://localhost:8080/"
    },
    "id": "kXGgWZeisto9",
    "outputId": "1fb1c3cf-66b5-4365-dbbd-d8bcbbb837d4"
   },
   "outputs": [
    {
     "data": {
      "text/plain": [
       "TensorShape([3500, 20])"
      ]
     },
     "execution_count": 22,
     "metadata": {
      "tags": []
     },
     "output_type": "execute_result"
    }
   ],
   "source": [
    "# cae_input_u.shape\n",
    "cae_output_u.shape"
   ]
  },
  {
   "cell_type": "code",
   "execution_count": null,
   "metadata": {
    "id": "8mWKZsjpleQx"
   },
   "outputs": [],
   "source": [
    "#compress v\n",
    "cae_input_v = encoder_v(input_v)\n",
    "cae_output_v = encoder_v(output_v)"
   ]
  },
  {
   "cell_type": "code",
   "execution_count": null,
   "metadata": {
    "id": "LbsoC5Ywll0e"
   },
   "outputs": [],
   "source": [
    "#compress buildings info\n",
    "cae_input_b = encoder_b(input_b)\n",
    "cae_central_b = encoder_b(central_b)"
   ]
  },
  {
   "cell_type": "code",
   "execution_count": null,
   "metadata": {
    "id": "_FDDnPNjtDF2"
   },
   "outputs": [],
   "source": [
    "new_input_u = np.zeros((3500, 20*4))\n",
    "new_input_v = np.zeros((3500, 20*4))\n",
    "new_input_b = np.zeros((3500, 20*4))\n",
    "\n",
    "for i in range(len(new_input_u)):\n",
    "  fourgrids_u = np.concatenate((cae_input_u[i*4:(i+1)*4]))\n",
    "  fourgrids_v = np.concatenate((cae_input_v[i*4:(i+1)*4]))\n",
    "  fourgrids_b = np.concatenate((cae_input_b[i*4:(i+1)*4]))\n",
    "  new_input_u[i] = fourgrids_u\n",
    "  new_input_v[i] = fourgrids_v\n",
    "  new_input_b[i] = fourgrids_b"
   ]
  },
  {
   "cell_type": "code",
   "execution_count": null,
   "metadata": {
    "colab": {
     "base_uri": "https://localhost:8080/"
    },
    "id": "nXq4aloluIjk",
    "outputId": "3f07f1c3-f13a-4518-dfbf-24890bc0c1d2"
   },
   "outputs": [
    {
     "data": {
      "text/plain": [
       "(3500, 80)"
      ]
     },
     "execution_count": 27,
     "metadata": {
      "tags": []
     },
     "output_type": "execute_result"
    }
   ],
   "source": [
    "new_input_b.shape"
   ]
  },
  {
   "cell_type": "code",
   "execution_count": null,
   "metadata": {
    "colab": {
     "base_uri": "https://localhost:8080/"
    },
    "id": "eYDyTlZPuKz6",
    "outputId": "f36b6269-3427-4b19-edb4-e1f9af11d7ff"
   },
   "outputs": [
    {
     "data": {
      "text/plain": [
       "TensorShape([3500, 20])"
      ]
     },
     "execution_count": 28,
     "metadata": {
      "tags": []
     },
     "output_type": "execute_result"
    }
   ],
   "source": [
    "cae_central_b.shape"
   ]
  },
  {
   "cell_type": "code",
   "execution_count": null,
   "metadata": {
    "colab": {
     "base_uri": "https://localhost:8080/"
    },
    "id": "LgyDsbP-l552",
    "outputId": "4d394c78-8375-46af-ad75-4d3921b4c704"
   },
   "outputs": [
    {
     "data": {
      "text/plain": [
       "(3500, 260)"
      ]
     },
     "execution_count": 29,
     "metadata": {
      "tags": []
     },
     "output_type": "execute_result"
    }
   ],
   "source": [
    "cae_input = np.concatenate((new_input_u, new_input_v, new_input_b, cae_central_b), axis = 1)\n",
    "cae_input.shape"
   ]
  },
  {
   "cell_type": "code",
   "execution_count": null,
   "metadata": {
    "id": "cba143gmmKc2"
   },
   "outputs": [],
   "source": [
    "cae_output = np.concatenate((cae_output_u, cae_output_v), axis = 1)"
   ]
  },
  {
   "cell_type": "code",
   "execution_count": null,
   "metadata": {
    "colab": {
     "base_uri": "https://localhost:8080/"
    },
    "id": "XwpLY3qkuUCw",
    "outputId": "ae3277a1-e2db-47f4-d794-e9caeb254dea"
   },
   "outputs": [
    {
     "data": {
      "text/plain": [
       "(3500, 40)"
      ]
     },
     "execution_count": 31,
     "metadata": {
      "tags": []
     },
     "output_type": "execute_result"
    }
   ],
   "source": [
    "cae_output.shape"
   ]
  },
  {
   "cell_type": "code",
   "execution_count": null,
   "metadata": {
    "id": "OjoJH9zquW1_"
   },
   "outputs": [],
   "source": [
    "np.save(\"cae_input_3500.npy\", cae_input)\n",
    "np.save(\"cae_output_3500.npy\", cae_output)"
   ]
  },
  {
   "cell_type": "code",
   "execution_count": null,
   "metadata": {
    "id": "23eOMpMAuidj"
   },
   "outputs": [],
   "source": [
    "np.save(\"sep3500/cae_input_b_20.npy\",cae_input_b)\n",
    "np.save(\"sep3500/cae_input_u_20.npy\",cae_input_u)\n",
    "np.save(\"sep3500/cae_input_v_20.npy\",cae_input_v)\n",
    "np.save(\"sep3500/cae_central_b_20.npy\",cae_central_b)\n",
    "np.save(\"sep3500/cae_output_u_20.npy\",cae_output_u)\n",
    "np.save(\"sep3500/cae_output_v_20.npy\",cae_output_v)"
   ]
  },
  {
   "cell_type": "code",
   "execution_count": null,
   "metadata": {
    "colab": {
     "base_uri": "https://localhost:8080/"
    },
    "id": "gGI-AVVzvrrr",
    "outputId": "41418633-4b3e-483d-9108-1c5d84144e52"
   },
   "outputs": [
    {
     "name": "stdout",
     "output_type": "stream",
     "text": [
      "  adding: sep3500/ (stored 0%)\n",
      "  adding: sep3500/cae_output_u_20.npy (deflated 7%)\n",
      "  adding: sep3500/cae_input_b_20.npy (deflated 11%)\n",
      "  adding: sep3500/cae_central_b_20.npy (deflated 8%)\n",
      "  adding: sep3500/cae_input_v_20.npy (deflated 7%)\n",
      "  adding: sep3500/cae_input_u_20.npy (deflated 7%)\n",
      "  adding: sep3500/cae_output_v_20.npy (deflated 7%)\n"
     ]
    }
   ],
   "source": [
    "!zip -r sep3500.zip ./sep3500/"
   ]
  },
  {
   "cell_type": "code",
   "execution_count": null,
   "metadata": {
    "id": "qPvFqGlZwkYM"
   },
   "outputs": [],
   "source": []
  },
  {
   "cell_type": "markdown",
   "metadata": {
    "id": "tVQyuqcg7rzD"
   },
   "source": [
    "## Input - uvb *4 grids + buildings central grid / Output - uv central grid"
   ]
  },
  {
   "cell_type": "markdown",
   "metadata": {
    "id": "y8RaiP-u7-T9"
   },
   "source": [
    "### Input compression - uvb (nSamples, 60*4) "
   ]
  },
  {
   "cell_type": "code",
   "execution_count": 13,
   "metadata": {
    "id": "ERU7dA0h8jSB"
   },
   "outputs": [],
   "source": [
    "input_full = np.delete(data, slice(4,17501,5),axis = 0)\n",
    "output_full = data[4:17501:5,:,:]"
   ]
  },
  {
   "cell_type": "code",
   "execution_count": 14,
   "metadata": {},
   "outputs": [],
   "source": [
    "nSamples = output_full.shape[0]"
   ]
  },
  {
   "cell_type": "code",
   "execution_count": 8,
   "metadata": {
    "id": "Iafv0J7t71Lj"
   },
   "outputs": [
    {
     "name": "stdout",
     "output_type": "stream",
     "text": [
      "WARNING:tensorflow:No training configuration found in save file, so the model was *not* compiled. Compile it manually.\n",
      "WARNING:tensorflow:No training configuration found in save file, so the model was *not* compiled. Compile it manually.\n"
     ]
    }
   ],
   "source": [
    "encoder = tf.keras.models.load_model(\"../models/encoder/model/encoder/\")\n",
    "decoder = tf.keras.models.load_model(\"../models/decoder/model/decoder/\")"
   ]
  },
  {
   "cell_type": "code",
   "execution_count": 12,
   "metadata": {},
   "outputs": [
    {
     "name": "stdout",
     "output_type": "stream",
     "text": [
      "Model: \"sequential\"\n",
      "_________________________________________________________________\n",
      "Layer (type)                 Output Shape              Param #   \n",
      "=================================================================\n",
      "dense (Dense)                (None, 1000)              121000    \n",
      "_________________________________________________________________\n",
      "dropout (Dropout)            (None, 1000)              0         \n",
      "_________________________________________________________________\n",
      "dense_1 (Dense)              (None, 1000)              1001000   \n",
      "_________________________________________________________________\n",
      "dropout_1 (Dropout)          (None, 1000)              0         \n",
      "_________________________________________________________________\n",
      "dense_2 (Dense)              (None, 30)                30030     \n",
      "=================================================================\n",
      "Total params: 1,152,030\n",
      "Trainable params: 1,152,030\n",
      "Non-trainable params: 0\n",
      "_________________________________________________________________\n"
     ]
    }
   ],
   "source": [
    "encoder.summary()"
   ]
  },
  {
   "cell_type": "code",
   "execution_count": 10,
   "metadata": {},
   "outputs": [
    {
     "ename": "ValueError",
     "evalue": "Input 0 of layer sequential is incompatible with the layer: expected axis -1 of input shape to have value 120 but received input with shape (17500, 48, 48, 3)",
     "output_type": "error",
     "traceback": [
      "\u001b[0;31m---------------------------------------------------------------------------\u001b[0m",
      "\u001b[0;31mValueError\u001b[0m                                Traceback (most recent call last)",
      "\u001b[0;32m<ipython-input-10-738926d9df01>\u001b[0m in \u001b[0;36m<module>\u001b[0;34m\u001b[0m\n\u001b[0;32m----> 1\u001b[0;31m \u001b[0mcae_uvb\u001b[0m \u001b[0;34m=\u001b[0m \u001b[0mencoder\u001b[0m\u001b[0;34m(\u001b[0m\u001b[0mdata\u001b[0m\u001b[0;34m)\u001b[0m\u001b[0;34m\u001b[0m\u001b[0;34m\u001b[0m\u001b[0m\n\u001b[0m\u001b[1;32m      2\u001b[0m \u001b[0mcae_uvb\u001b[0m\u001b[0;34m.\u001b[0m\u001b[0mshape\u001b[0m\u001b[0;34m\u001b[0m\u001b[0;34m\u001b[0m\u001b[0m\n",
      "\u001b[0;32m/Applications/anaconda3/lib/python3.8/site-packages/tensorflow/python/keras/engine/base_layer.py\u001b[0m in \u001b[0;36m__call__\u001b[0;34m(self, *args, **kwargs)\u001b[0m\n\u001b[1;32m   1011\u001b[0m         training=training_mode):\n\u001b[1;32m   1012\u001b[0m \u001b[0;34m\u001b[0m\u001b[0m\n\u001b[0;32m-> 1013\u001b[0;31m       \u001b[0minput_spec\u001b[0m\u001b[0;34m.\u001b[0m\u001b[0massert_input_compatibility\u001b[0m\u001b[0;34m(\u001b[0m\u001b[0mself\u001b[0m\u001b[0;34m.\u001b[0m\u001b[0minput_spec\u001b[0m\u001b[0;34m,\u001b[0m \u001b[0minputs\u001b[0m\u001b[0;34m,\u001b[0m \u001b[0mself\u001b[0m\u001b[0;34m.\u001b[0m\u001b[0mname\u001b[0m\u001b[0;34m)\u001b[0m\u001b[0;34m\u001b[0m\u001b[0;34m\u001b[0m\u001b[0m\n\u001b[0m\u001b[1;32m   1014\u001b[0m       \u001b[0;32mif\u001b[0m \u001b[0meager\u001b[0m\u001b[0;34m:\u001b[0m\u001b[0;34m\u001b[0m\u001b[0;34m\u001b[0m\u001b[0m\n\u001b[1;32m   1015\u001b[0m         \u001b[0mcall_fn\u001b[0m \u001b[0;34m=\u001b[0m \u001b[0mself\u001b[0m\u001b[0;34m.\u001b[0m\u001b[0mcall\u001b[0m\u001b[0;34m\u001b[0m\u001b[0;34m\u001b[0m\u001b[0m\n",
      "\u001b[0;32m/Applications/anaconda3/lib/python3.8/site-packages/tensorflow/python/keras/engine/input_spec.py\u001b[0m in \u001b[0;36massert_input_compatibility\u001b[0;34m(input_spec, inputs, layer_name)\u001b[0m\n\u001b[1;32m    249\u001b[0m           \u001b[0mvalue\u001b[0m \u001b[0;34m=\u001b[0m \u001b[0mvalue\u001b[0m\u001b[0;34m.\u001b[0m\u001b[0mvalue\u001b[0m\u001b[0;34m\u001b[0m\u001b[0;34m\u001b[0m\u001b[0m\n\u001b[1;32m    250\u001b[0m         \u001b[0;32mif\u001b[0m \u001b[0mvalue\u001b[0m \u001b[0;32mis\u001b[0m \u001b[0;32mnot\u001b[0m \u001b[0;32mNone\u001b[0m \u001b[0;32mand\u001b[0m \u001b[0mshape_as_list\u001b[0m\u001b[0;34m[\u001b[0m\u001b[0mint\u001b[0m\u001b[0;34m(\u001b[0m\u001b[0maxis\u001b[0m\u001b[0;34m)\u001b[0m\u001b[0;34m]\u001b[0m \u001b[0;32mnot\u001b[0m \u001b[0;32min\u001b[0m \u001b[0;34m{\u001b[0m\u001b[0mvalue\u001b[0m\u001b[0;34m,\u001b[0m \u001b[0;32mNone\u001b[0m\u001b[0;34m}\u001b[0m\u001b[0;34m:\u001b[0m\u001b[0;34m\u001b[0m\u001b[0;34m\u001b[0m\u001b[0m\n\u001b[0;32m--> 251\u001b[0;31m           raise ValueError(\n\u001b[0m\u001b[1;32m    252\u001b[0m               \u001b[0;34m'Input '\u001b[0m \u001b[0;34m+\u001b[0m \u001b[0mstr\u001b[0m\u001b[0;34m(\u001b[0m\u001b[0minput_index\u001b[0m\u001b[0;34m)\u001b[0m \u001b[0;34m+\u001b[0m \u001b[0;34m' of layer '\u001b[0m \u001b[0;34m+\u001b[0m \u001b[0mlayer_name\u001b[0m \u001b[0;34m+\u001b[0m \u001b[0;34m' is'\u001b[0m\u001b[0;34m\u001b[0m\u001b[0;34m\u001b[0m\u001b[0m\n\u001b[1;32m    253\u001b[0m               \u001b[0;34m' incompatible with the layer: expected axis '\u001b[0m \u001b[0;34m+\u001b[0m \u001b[0mstr\u001b[0m\u001b[0;34m(\u001b[0m\u001b[0maxis\u001b[0m\u001b[0;34m)\u001b[0m \u001b[0;34m+\u001b[0m\u001b[0;34m\u001b[0m\u001b[0;34m\u001b[0m\u001b[0m\n",
      "\u001b[0;31mValueError\u001b[0m: Input 0 of layer sequential is incompatible with the layer: expected axis -1 of input shape to have value 120 but received input with shape (17500, 48, 48, 3)"
     ]
    }
   ],
   "source": [
    "cae_uvb = encoder(data)\n",
    "cae_uvb.shape"
   ]
  },
  {
   "cell_type": "markdown",
   "metadata": {
    "id": "bMYoguG58YgK"
   },
   "source": [
    "### Input compression - b (nSamples, 20)"
   ]
  },
  {
   "cell_type": "code",
   "execution_count": 9,
   "metadata": {
    "id": "ha8wIwIp8eQK"
   },
   "outputs": [
    {
     "name": "stdout",
     "output_type": "stream",
     "text": [
      "WARNING:tensorflow:No training configuration found in save file, so the model was *not* compiled. Compile it manually.\n"
     ]
    }
   ],
   "source": [
    "encoder_b = tf.keras.models.load_model(\"all_separate_comp/encoder_b_20/model/encoder_b\")"
   ]
  },
  {
   "cell_type": "markdown",
   "metadata": {
    "id": "0JOQnXaF8cjd"
   },
   "source": [
    "### Concatenate (nSamples, 60*4 + 20)"
   ]
  },
  {
   "cell_type": "code",
   "execution_count": null,
   "metadata": {},
   "outputs": [],
   "source": [
    "for i in range(nSamples):\n",
    "    uvb_"
   ]
  },
  {
   "cell_type": "markdown",
   "metadata": {
    "id": "NQ4lTXkF8j0F"
   },
   "source": [
    "### Ouput compression (nSamples, 40)"
   ]
  }
 ],
 "metadata": {
  "colab": {
   "name": "Make_compressions.ipynb",
   "provenance": []
  },
  "kernelspec": {
   "display_name": "Python 3",
   "language": "python",
   "name": "python3"
  },
  "language_info": {
   "codemirror_mode": {
    "name": "ipython",
    "version": 3
   },
   "file_extension": ".py",
   "mimetype": "text/x-python",
   "name": "python",
   "nbconvert_exporter": "python",
   "pygments_lexer": "ipython3",
   "version": "3.8.3"
  },
  "toc": {
   "base_numbering": 1,
   "nav_menu": {},
   "number_sections": true,
   "sideBar": true,
   "skip_h1_title": false,
   "title_cell": "Table of Contents",
   "title_sidebar": "Contents",
   "toc_cell": false,
   "toc_position": {},
   "toc_section_display": true,
   "toc_window_display": false
  }
 },
 "nbformat": 4,
 "nbformat_minor": 1
}
